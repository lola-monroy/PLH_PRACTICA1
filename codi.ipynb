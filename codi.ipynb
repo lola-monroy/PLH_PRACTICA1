{
 "cells": [
  {
   "cell_type": "markdown",
   "metadata": {},
   "source": [
    "# Identificador d'idioma per les llengües europees\n",
    "Idiomes a identificar: anglès, castellà, neerlandès, alemany, italià i francès\n",
    "\n"
   ]
  },
  {
   "cell_type": "markdown",
   "metadata": {},
   "source": [
    "#### Preprocès:\n",
    "- Eliminar els digits del text\n",
    "- Convertir tot el text a minúscula\n",
    "- Substitueix els espais en blanc continus per un de sol\n",
    "- Concatena totes les frases amb un espai doble al mig\n",
    "\n",
    "Nota: les llibreries string i regular expression de python us poden ser útils"
   ]
  },
  {
   "cell_type": "code",
   "execution_count": null,
   "metadata": {},
   "outputs": [],
   "source": [
    "# TOKENITZACIÓ AMB NLTK \n",
    "# Requirements\n",
    "import nltk\n",
    "nltk.download('punkt')\n",
    "\n",
    "# ------ EXEMPLE DE COM FUNCIONA EL TOKENITZADOR \n",
    "'''\n",
    "nltk.word_tokenize('Men want children.') \n",
    "['Men', 'want', 'children', '.']\n",
    "'''\n",
    "# ------ EXEMPLE DE COM FUNCIONA EL TOKENITZADOR EN CASTELLÀ \n",
    "'''\n",
    "[nltk.word_tokenize(s, language='spanish') for s in \n",
    " nltk.sent_tokenize(source, language='spanish')]\n",
    "👉 [['El', 'gato', 'tiene', 'hambre', '.'], \n",
    "    ['Está', 'intentando', 'pescar', '.']]\n",
    "'''"
   ]
  },
  {
   "cell_type": "code",
   "execution_count": null,
   "metadata": {},
   "outputs": [],
   "source": [
    "# TOKENITZACIÓ AMB SPACY\n",
    "# Requirements --> NO M funciona\n",
    "!python -m spacy download ca_core_news_sm\n",
    "import spacy\n",
    "nlp = spacy.load('ca_core_news_sm')\n",
    "\n",
    "\n"
   ]
  },
  {
   "cell_type": "markdown",
   "metadata": {},
   "source": [
    "Utilitzar trigrams de caràcters com a model del llenguatge"
   ]
  },
  {
   "cell_type": "markdown",
   "metadata": {},
   "source": [
    "Afegir una tècnica de suavitzat"
   ]
  },
  {
   "cell_type": "markdown",
   "metadata": {},
   "source": [
    "Eliminar tots el trigrams que apareguin menys de 5 vegades en el corpus"
   ]
  },
  {
   "cell_type": "markdown",
   "metadata": {},
   "source": [
    "Utilitzeu com a dades el wortschatz leipzig corpora:\n",
    "\n",
    "    30k frases de cadascuna de les 6 llengües com a training set\n",
    "    10k de cadascuna com a test set\n",
    "\n"
   ]
  },
  {
   "cell_type": "markdown",
   "metadata": {},
   "source": [
    "Doneu la precisió (accuracy) i la matriu de confusió"
   ]
  }
 ],
 "metadata": {
  "kernelspec": {
   "display_name": "Python 3",
   "language": "python",
   "name": "python3"
  },
  "language_info": {
   "codemirror_mode": {
    "name": "ipython",
    "version": 3
   },
   "file_extension": ".py",
   "mimetype": "text/x-python",
   "name": "python",
   "nbconvert_exporter": "python",
   "pygments_lexer": "ipython3",
   "version": "3.10.11"
  }
 },
 "nbformat": 4,
 "nbformat_minor": 2
}
