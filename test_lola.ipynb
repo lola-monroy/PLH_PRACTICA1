{
 "cells": [
  {
   "cell_type": "code",
   "execution_count": null,
   "metadata": {},
   "outputs": [],
   "source": [
    "from nltk.tokenize import WordPunctTokenizer \n",
    "\n",
    "# Función para verificar si un string es numérico\n",
    "def isNumeric(s):\n",
    "    try:\n",
    "        float(s)\n",
    "        return True\n",
    "    except ValueError:\n",
    "        return False\n",
    "\n",
    "# Tu código para leer el archivo y tokenizar el texto\n",
    "file_path = r'C:\\Users\\Lola Monroy Mir\\OneDrive\\Escritorio\\2_GIA\\PLH_PRACTICA1\\langId\\spa_trn.txt'\n",
    "\n",
    "with open(file_path, 'r', encoding='utf-8') as file:\n",
    "    text = file.read()\n",
    "\n",
    "texto_tokenizado = WordPunctTokenizer().tokenize(text)\n",
    "\n",
    "# Filtrar los elementos que no son numéricos\n",
    "texto_tokenizado_filtrado = [elem for elem in texto_tokenizado if not isNumeric(elem)]\n",
    "\n",
    "print(texto_tokenizado_filtrado)"
   ]
  }
 ],
 "metadata": {
  "language_info": {
   "name": "python"
  }
 },
 "nbformat": 4,
 "nbformat_minor": 2
}
